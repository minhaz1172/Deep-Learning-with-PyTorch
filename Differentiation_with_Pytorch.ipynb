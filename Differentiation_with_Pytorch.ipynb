{
  "nbformat": 4,
  "nbformat_minor": 0,
  "metadata": {
    "colab": {
      "provenance": [],
      "authorship_tag": "ABX9TyO9dS5y2nESvNDXd0Raj3G8",
      "include_colab_link": true
    },
    "kernelspec": {
      "name": "python3",
      "display_name": "Python 3"
    },
    "language_info": {
      "name": "python"
    }
  },
  "cells": [
    {
      "cell_type": "markdown",
      "metadata": {
        "id": "view-in-github",
        "colab_type": "text"
      },
      "source": [
        "<a href=\"https://colab.research.google.com/github/minhaz1172/Neural-Network-with-PyTorch/blob/main/Differentiation_with_Pytorch.ipynb\" target=\"_parent\"><img src=\"https://colab.research.google.com/assets/colab-badge.svg\" alt=\"Open In Colab\"/></a>"
      ]
    },
    {
      "cell_type": "code",
      "execution_count": 1,
      "metadata": {
        "id": "eBob5KFyWi8l"
      },
      "outputs": [],
      "source": [
        "import torch\n",
        "import matplotlib.pylab as plt"
      ]
    },
    {
      "cell_type": "code",
      "source": [
        "# create a tensor x\n",
        "x=torch.tensor(2.0,requires_grad=True) # Create a scalar tensor with value 2.0 and enable gradient tracking for automatic differentiation\n",
        "print(\"The tensor x:\",x)"
      ],
      "metadata": {
        "id": "J1ELA0ZYXYEW",
        "colab": {
          "base_uri": "https://localhost:8080/"
        },
        "outputId": "738a7a7c-9d46-4c62-ddef-3bee572d24e2"
      },
      "execution_count": 2,
      "outputs": [
        {
          "output_type": "stream",
          "name": "stdout",
          "text": [
            "The tensor x: tensor(2., requires_grad=True)\n"
          ]
        }
      ]
    },
    {
      "cell_type": "code",
      "source": [
        "# create a tensor y according to y=x^2\n",
        "y=x**2\n",
        "print(\"The result of y=x^2:\",y)"
      ],
      "metadata": {
        "colab": {
          "base_uri": "https://localhost:8080/"
        },
        "id": "m6c_05PCnWY9",
        "outputId": "f7aa5c65-8895-47b7-a34e-fc90fb39dd9b"
      },
      "execution_count": 3,
      "outputs": [
        {
          "output_type": "stream",
          "name": "stdout",
          "text": [
            "The result of y=x^2: tensor(4., grad_fn=<PowBackward0>)\n"
          ]
        }
      ]
    },
    {
      "cell_type": "code",
      "source": [
        "#Compute the gradient of y with respect to x\n",
        "y.backward()\n",
        "\n",
        "# Print the computed derivative (dy/dx at x=2)\n",
        "print(\"the derivative of x=2\",x.grad)\n"
      ],
      "metadata": {
        "colab": {
          "base_uri": "https://localhost:8080/"
        },
        "id": "bqKV3MUanhSy",
        "outputId": "e0f03d6c-56f6-4988-f19b-b94ee4c11db9"
      },
      "execution_count": 4,
      "outputs": [
        {
          "output_type": "stream",
          "name": "stdout",
          "text": [
            "the derivative of x=2 tensor(4.)\n"
          ]
        }
      ]
    },
    {
      "cell_type": "markdown",
      "source": [
        "# Partial derivatives"
      ],
      "metadata": {
        "id": "5MegWpB1o42f"
      }
    },
    {
      "cell_type": "code",
      "source": [
        "#calculate f(v,v)=uv+u^2 at u=1,v=2\n",
        "u=torch.tensor(1.0,requires_grad=True)\n",
        "v=torch.tensor(2.0,requires_grad=True)\n",
        "f=u*v+u**2\n",
        "print(\"The result of f(u,v):\",f)"
      ],
      "metadata": {
        "colab": {
          "base_uri": "https://localhost:8080/"
        },
        "id": "62OGWNfd7Ikl",
        "outputId": "0eda382d-0e0e-4e0c-d7c4-21ecc6abd6ef"
      },
      "execution_count": 5,
      "outputs": [
        {
          "output_type": "stream",
          "name": "stdout",
          "text": [
            "The result of f(u,v): tensor(3., grad_fn=<AddBackward0>)\n"
          ]
        }
      ]
    },
    {
      "cell_type": "code",
      "source": [
        "# calculate the derivative of f with respect to u\n",
        "f.backward()\n",
        "print(\"The partial derivative of f with respect to u:\",u.grad)"
      ],
      "metadata": {
        "colab": {
          "base_uri": "https://localhost:8080/"
        },
        "id": "26UHOE1P7nRw",
        "outputId": "cf1dd020-1b37-4bc0-f0b5-5161cc28c7ba"
      },
      "execution_count": 6,
      "outputs": [
        {
          "output_type": "stream",
          "name": "stdout",
          "text": [
            "The partial derivative of f with respect to u: tensor(4.)\n"
          ]
        }
      ]
    },
    {
      "cell_type": "code",
      "source": [
        "# calculate the derivative with  respect to v\n",
        "\n",
        "print(\"The partial derivative of f with respect to v:\",v.grad)"
      ],
      "metadata": {
        "colab": {
          "base_uri": "https://localhost:8080/"
        },
        "id": "J6cFvma870iq",
        "outputId": "9dabfdff-b75d-4f9e-9c2a-7e588624c0ad"
      },
      "execution_count": 7,
      "outputs": [
        {
          "output_type": "stream",
          "name": "stdout",
          "text": [
            "The partial derivative of f with respect to v: tensor(1.)\n"
          ]
        }
      ]
    }
  ]
}