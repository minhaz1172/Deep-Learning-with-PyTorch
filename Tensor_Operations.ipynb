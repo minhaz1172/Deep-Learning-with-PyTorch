{
  "nbformat": 4,
  "nbformat_minor": 0,
  "metadata": {
    "colab": {
      "provenance": [],
      "authorship_tag": "ABX9TyPu2M6Dtv1Gz7usudxugeA6",
      "include_colab_link": true
    },
    "kernelspec": {
      "name": "python3",
      "display_name": "Python 3"
    },
    "language_info": {
      "name": "python"
    }
  },
  "cells": [
    {
      "cell_type": "markdown",
      "metadata": {
        "id": "view-in-github",
        "colab_type": "text"
      },
      "source": [
        "<a href=\"https://colab.research.google.com/github/minhaz1172/Neural-Network-with-PyTorch/blob/main/Tensor_Operations.ipynb\" target=\"_parent\"><img src=\"https://colab.research.google.com/assets/colab-badge.svg\" alt=\"Open In Colab\"/></a>"
      ]
    },
    {
      "cell_type": "markdown",
      "source": [
        "import torch and other libraries"
      ],
      "metadata": {
        "id": "gSVNNudc55bZ"
      }
    },
    {
      "cell_type": "code",
      "source": [
        "import torch\n",
        "import numpy as np\n",
        "import pandas as pd\n",
        "\n",
        "import matplotlib.pyplot as plt\n",
        "%matplotlib inline"
      ],
      "metadata": {
        "id": "TgUS4G4851zr"
      },
      "execution_count": 16,
      "outputs": []
    },
    {
      "cell_type": "code",
      "execution_count": 17,
      "metadata": {
        "colab": {
          "base_uri": "https://localhost:8080/",
          "height": 36
        },
        "id": "6ru6Vaj95Y0F",
        "outputId": "e582e1f8-6b91-43e7-951e-667d2a71afff"
      },
      "outputs": [
        {
          "output_type": "execute_result",
          "data": {
            "text/plain": [
              "'2.6.0+cu124'"
            ],
            "application/vnd.google.colaboratory.intrinsic+json": {
              "type": "string"
            }
          },
          "metadata": {},
          "execution_count": 17
        }
      ],
      "source": [
        "torch.__version__ # check version"
      ]
    },
    {
      "cell_type": "code",
      "source": [
        "# convert inter list to tensor\n",
        "ints_to_tensor=torch.tensor([0,1,2,3,4])\n",
        "print(f\"dtype of ints_to_tensor is {ints_to_tensor.dtype}\")\n",
        "ints_to_tensor"
      ],
      "metadata": {
        "colab": {
          "base_uri": "https://localhost:8080/"
        },
        "id": "wpcoMV0f7YKL",
        "outputId": "0d186384-66f5-458a-d872-92fee9110a52"
      },
      "execution_count": 18,
      "outputs": [
        {
          "output_type": "stream",
          "name": "stdout",
          "text": [
            "dtype of ints_to_tensor is torch.int64\n"
          ]
        },
        {
          "output_type": "execute_result",
          "data": {
            "text/plain": [
              "tensor([0, 1, 2, 3, 4])"
            ]
          },
          "metadata": {},
          "execution_count": 18
        }
      ]
    },
    {
      "cell_type": "code",
      "source": [
        "# convert float list to a tensor\n",
        "floats_to_tensor=torch.tensor([0.0,4,0,2.6,4.9])\n",
        "print(f\"dtype of floats_to_tensor: {floats_to_tensor.dtype}\")\n",
        "print(f\"shape of floats_to_tensor: {floats_to_tensor.shape}\")\n",
        "floats_to_tensor"
      ],
      "metadata": {
        "colab": {
          "base_uri": "https://localhost:8080/"
        },
        "id": "MRTX-Eqo8LzN",
        "outputId": "8c5656fd-9cbd-49bd-c1c5-3e318ec8c712"
      },
      "execution_count": 19,
      "outputs": [
        {
          "output_type": "stream",
          "name": "stdout",
          "text": [
            "dtype of floats_to_tensor: torch.float32\n",
            "shape of floats_to_tensor: torch.Size([5])\n"
          ]
        },
        {
          "output_type": "execute_result",
          "data": {
            "text/plain": [
              "tensor([0.0000, 4.0000, 0.0000, 2.6000, 4.9000])"
            ]
          },
          "metadata": {},
          "execution_count": 19
        }
      ]
    },
    {
      "cell_type": "code",
      "source": [
        "# 2d tensor\n",
        "tensor_2d=torch.tensor([1,3,4],[4,5,6])\n",
        "print(f\"dtype of tensor_2d: {tensor_2d.dtype}\")\n",
        "print(f\"shape of tensor_2d: {tensor_2d.shape}\")\n",
        "tensor_2d"
      ],
      "metadata": {
        "colab": {
          "base_uri": "https://localhost:8080/"
        },
        "id": "pCwelnQo-Gfj",
        "outputId": "31f9509c-dac8-4294-aaa8-733270ae9396"
      },
      "execution_count": 20,
      "outputs": [
        {
          "output_type": "stream",
          "name": "stdout",
          "text": [
            "dtype of tensor_2d: torch.int64\n",
            "shape of tensor_2d: torch.Size([2, 3])\n"
          ]
        },
        {
          "output_type": "execute_result",
          "data": {
            "text/plain": [
              "tensor([[1, 3, 4],\n",
              "        [4, 5, 6]])"
            ]
          },
          "metadata": {},
          "execution_count": 20
        }
      ]
    },
    {
      "cell_type": "code",
      "source": [
        "# random tensor\n",
        "random_tensor=torch.rand(2,3)# 2 by 3 matrix\n",
        "print(f\"dtype of random_tensor: {random_tensor.dtype}\")\n",
        "print(f\"shape of random_tensor: {random_tensor.shape}\")\n",
        "random_tensor\n",
        "\n",
        "zeros_tensor=torch.zeros(2,3)\n",
        "print(f\"dtype of zeros_tensor: {zeros_tensor.dtype}\")\n",
        "print(f\"shape of zeros_tensor: {zeros_tensor.shape}\")\n",
        "zeros_tensor"
      ],
      "metadata": {
        "colab": {
          "base_uri": "https://localhost:8080/"
        },
        "id": "tvCvAGQo-3q4",
        "outputId": "6a0419f0-c8ab-4776-9b68-8ecbb1b0545e"
      },
      "execution_count": 21,
      "outputs": [
        {
          "output_type": "stream",
          "name": "stdout",
          "text": [
            "dtype of random_tensor: torch.float32\n",
            "shape of random_tensor: torch.Size([2, 3])\n",
            "dtype of zeros_tensor: torch.float32\n",
            "shape of zeros_tensor: torch.Size([2, 3])\n"
          ]
        },
        {
          "output_type": "execute_result",
          "data": {
            "text/plain": [
              "tensor([[0., 0., 0.],\n",
              "        [0., 0., 0.]])"
            ]
          },
          "metadata": {},
          "execution_count": 21
        }
      ]
    },
    {
      "cell_type": "code",
      "source": [
        "# numpy array to tensor\n",
        "numpy_array=np.array([0.0,1.0,2.0,3.0])\n",
        "new_tensor=torch.from_numpy(numpy_array)\n",
        "print(f\"dtype of new_tensor: {new_tensor.dtype}\")\n",
        "print(f\"shape of new_tensor: {new_tensor.shape}\")\n",
        "new_tensor"
      ],
      "metadata": {
        "colab": {
          "base_uri": "https://localhost:8080/"
        },
        "id": "zW_dJF9xC8NK",
        "outputId": "42ed4238-0953-4777-eb9c-500184f18a1c"
      },
      "execution_count": 22,
      "outputs": [
        {
          "output_type": "stream",
          "name": "stdout",
          "text": [
            "dtype of new_tensor: torch.float64\n",
            "shape of new_tensor: torch.Size([4])\n"
          ]
        },
        {
          "output_type": "execute_result",
          "data": {
            "text/plain": [
              "tensor([0., 1., 2., 3.], dtype=torch.float64)"
            ]
          },
          "metadata": {},
          "execution_count": 22
        }
      ]
    },
    {
      "cell_type": "code",
      "source": [
        "# pandas series to tensor\n",
        "pandas_series=pd.Series([0.0,1.0,2.0,3.0])\n",
        "new_tensor=torch.from_numpy(pandas_series.values)\n",
        "print(f\"dtype of new_tensor: {new_tensor.dtype}\")\n",
        "print(f\"shape of new_tensor: {new_tensor.shape}\")\n",
        "new_tensor"
      ],
      "metadata": {
        "colab": {
          "base_uri": "https://localhost:8080/"
        },
        "id": "ABiYthr1DSVm",
        "outputId": "24e3ca1d-d8f6-4585-ad75-65d651e55a0d"
      },
      "execution_count": 24,
      "outputs": [
        {
          "output_type": "stream",
          "name": "stdout",
          "text": [
            "dtype of new_tensor: torch.float64\n",
            "shape of new_tensor: torch.Size([4])\n"
          ]
        },
        {
          "output_type": "execute_result",
          "data": {
            "text/plain": [
              "tensor([0., 1., 2., 3.], dtype=torch.float64)"
            ]
          },
          "metadata": {},
          "execution_count": 24
        }
      ]
    },
    {
      "cell_type": "markdown",
      "source": [
        "# Tensor operations"
      ],
      "metadata": {
        "id": "SVrKv-NVD_gQ"
      }
    },
    {
      "cell_type": "code",
      "source": [
        "# indexing and slicing\n",
        "tensor=torch.tensor([0,1,2,4,5])\n",
        "tensor[3] # number 3 index\n",
        "\n",
        "#change the value of the tensor\n",
        "print(f\"tensor before changing any index value,{tensor}\")\n",
        "tensor[3]=100\n",
        "print(f\"tensor after changing any index value,{tensor}\")"
      ],
      "metadata": {
        "colab": {
          "base_uri": "https://localhost:8080/"
        },
        "id": "jV9XTnytDqVm",
        "outputId": "8321e49c-9158-4335-ff64-cf047c2ad719"
      },
      "execution_count": 27,
      "outputs": [
        {
          "output_type": "stream",
          "name": "stdout",
          "text": [
            "tensor before changing any index value,tensor([0, 1, 2, 4, 5])\n",
            "tensor after changing any index value,tensor([  0,   1,   2, 100,   5])\n"
          ]
        }
      ]
    },
    {
      "cell_type": "code",
      "source": [
        "# slice tenspr sample\n",
        "tensor1=torch.tensor([0,1,3,5,3])\n",
        "sub_tensor=tensor1[1:4] #vslice element from index 1 to 4\n",
        "print(f\"tensor1: {tensor1}\")\n",
        "print(f\"sub_tensor: {sub_tensor}\")"
      ],
      "metadata": {
        "colab": {
          "base_uri": "https://localhost:8080/"
        },
        "id": "UZUCOHqCEZ0j",
        "outputId": "c57386f2-4630-4505-e5f3-7c88b8bf1402"
      },
      "execution_count": 30,
      "outputs": [
        {
          "output_type": "stream",
          "name": "stdout",
          "text": [
            "tensor1: tensor([0, 1, 3, 5, 3])\n",
            "sub_tensor: tensor([1, 3, 5])\n"
          ]
        }
      ]
    }
  ]
}