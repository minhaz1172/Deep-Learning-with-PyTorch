{
  "nbformat": 4,
  "nbformat_minor": 0,
  "metadata": {
    "colab": {
      "provenance": [],
      "authorship_tag": "ABX9TyMbewiw2ryhgOYwYhmSwtaw",
      "include_colab_link": true
    },
    "kernelspec": {
      "name": "python3",
      "display_name": "Python 3"
    },
    "language_info": {
      "name": "python"
    }
  },
  "cells": [
    {
      "cell_type": "markdown",
      "metadata": {
        "id": "view-in-github",
        "colab_type": "text"
      },
      "source": [
        "<a href=\"https://colab.research.google.com/github/minhaz1172/Neural-Network-with-PyTorch/blob/main/Tensor_Operations.ipynb\" target=\"_parent\"><img src=\"https://colab.research.google.com/assets/colab-badge.svg\" alt=\"Open In Colab\"/></a>"
      ]
    },
    {
      "cell_type": "markdown",
      "source": [
        "import torch and other libraries"
      ],
      "metadata": {
        "id": "gSVNNudc55bZ"
      }
    },
    {
      "cell_type": "code",
      "source": [
        "import torch\n",
        "import numpy as np\n",
        "import pandas as pd\n",
        "\n",
        "import matplotlib.pyplot as plt\n",
        "%matplotlib inline"
      ],
      "metadata": {
        "id": "TgUS4G4851zr"
      },
      "execution_count": 2,
      "outputs": []
    },
    {
      "cell_type": "code",
      "execution_count": 3,
      "metadata": {
        "colab": {
          "base_uri": "https://localhost:8080/",
          "height": 36
        },
        "id": "6ru6Vaj95Y0F",
        "outputId": "6b82697d-edc7-4a2e-d821-ee1f7d4ad092"
      },
      "outputs": [
        {
          "output_type": "execute_result",
          "data": {
            "text/plain": [
              "'2.6.0+cu124'"
            ],
            "application/vnd.google.colaboratory.intrinsic+json": {
              "type": "string"
            }
          },
          "metadata": {},
          "execution_count": 3
        }
      ],
      "source": [
        "torch.__version__ # check version"
      ]
    },
    {
      "cell_type": "code",
      "source": [
        "# convert inter list to tensor\n",
        "ints_to_tensor=torch.tensor([0,1,2,3,4])\n",
        "print(f\"dtype of ints_to_tensor is {ints_to_tensor.dtype}\")\n",
        "ints_to_tensor"
      ],
      "metadata": {
        "colab": {
          "base_uri": "https://localhost:8080/"
        },
        "id": "wpcoMV0f7YKL",
        "outputId": "a159d45a-2529-4c03-d9df-664b3f3913de"
      },
      "execution_count": 5,
      "outputs": [
        {
          "output_type": "stream",
          "name": "stdout",
          "text": [
            "dtype of ints_to_tensor is torch.int64\n"
          ]
        },
        {
          "output_type": "execute_result",
          "data": {
            "text/plain": [
              "tensor([0, 1, 2, 3, 4])"
            ]
          },
          "metadata": {},
          "execution_count": 5
        }
      ]
    },
    {
      "cell_type": "code",
      "source": [
        "# convert float list to a tensor\n",
        "floats_to_tensor=torch.tensor([0.0,4,0,2.6,4.9])\n",
        "print(f\"dtype of floats_to_tensor: {floats_to_tensor.dtype}\")\n",
        "print(f\"shape of floats_to_tensor: {floats_to_tensor.shape}\")\n",
        "floats_to_tensor"
      ],
      "metadata": {
        "colab": {
          "base_uri": "https://localhost:8080/"
        },
        "id": "MRTX-Eqo8LzN",
        "outputId": "2807b84e-7025-4803-8f2f-025d2b838972"
      },
      "execution_count": 7,
      "outputs": [
        {
          "output_type": "stream",
          "name": "stdout",
          "text": [
            "dtype of floats_to_tensor: torch.float32\n",
            "shape of floats_to_tensor: torch.Size([5])\n"
          ]
        },
        {
          "output_type": "execute_result",
          "data": {
            "text/plain": [
              "tensor([0.0000, 4.0000, 0.0000, 2.6000, 4.9000])"
            ]
          },
          "metadata": {},
          "execution_count": 7
        }
      ]
    }
  ]
}