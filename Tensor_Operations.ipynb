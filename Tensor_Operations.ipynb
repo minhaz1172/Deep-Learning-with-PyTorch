{
  "nbformat": 4,
  "nbformat_minor": 0,
  "metadata": {
    "colab": {
      "provenance": [],
      "authorship_tag": "ABX9TyNjILnRLgjfCYjeV7+FKTwo",
      "include_colab_link": true
    },
    "kernelspec": {
      "name": "python3",
      "display_name": "Python 3"
    },
    "language_info": {
      "name": "python"
    }
  },
  "cells": [
    {
      "cell_type": "markdown",
      "metadata": {
        "id": "view-in-github",
        "colab_type": "text"
      },
      "source": [
        "<a href=\"https://colab.research.google.com/github/minhaz1172/Deep-Learning-with-PyTorch/blob/main/Tensor_Operations.ipynb\" target=\"_parent\"><img src=\"https://colab.research.google.com/assets/colab-badge.svg\" alt=\"Open In Colab\"/></a>"
      ]
    },
    {
      "cell_type": "markdown",
      "source": [
        "import torch and other libraries"
      ],
      "metadata": {
        "id": "gSVNNudc55bZ"
      }
    },
    {
      "cell_type": "code",
      "source": [
        "import torch\n",
        "import numpy as np\n",
        "import pandas as pd\n",
        "\n",
        "import matplotlib.pyplot as plt\n",
        "%matplotlib inline"
      ],
      "metadata": {
        "id": "TgUS4G4851zr"
      },
      "execution_count": 1,
      "outputs": []
    },
    {
      "cell_type": "code",
      "execution_count": 2,
      "metadata": {
        "colab": {
          "base_uri": "https://localhost:8080/",
          "height": 35
        },
        "id": "6ru6Vaj95Y0F",
        "outputId": "10e14133-fc44-439f-c00d-67b2d9aa0c43"
      },
      "outputs": [
        {
          "output_type": "execute_result",
          "data": {
            "text/plain": [
              "'2.6.0+cu124'"
            ],
            "application/vnd.google.colaboratory.intrinsic+json": {
              "type": "string"
            }
          },
          "metadata": {},
          "execution_count": 2
        }
      ],
      "source": [
        "torch.__version__ # check version"
      ]
    },
    {
      "cell_type": "code",
      "source": [
        "# convert inter list to tensor\n",
        "ints_to_tensor=torch.tensor([0,1,2,3,4])\n",
        "print(f\"dtype of ints_to_tensor is {ints_to_tensor.dtype}\")\n",
        "ints_to_tensor"
      ],
      "metadata": {
        "colab": {
          "base_uri": "https://localhost:8080/"
        },
        "id": "wpcoMV0f7YKL",
        "outputId": "72b7254e-8cb2-498c-dc42-93b5eff0ae3e"
      },
      "execution_count": 3,
      "outputs": [
        {
          "output_type": "stream",
          "name": "stdout",
          "text": [
            "dtype of ints_to_tensor is torch.int64\n"
          ]
        },
        {
          "output_type": "execute_result",
          "data": {
            "text/plain": [
              "tensor([0, 1, 2, 3, 4])"
            ]
          },
          "metadata": {},
          "execution_count": 3
        }
      ]
    },
    {
      "cell_type": "code",
      "source": [
        "# convert float list to a tensor\n",
        "floats_to_tensor=torch.tensor([0.0,4,0,2.6,4.9])\n",
        "print(f\"dtype of floats_to_tensor: {floats_to_tensor.dtype}\")\n",
        "print(f\"shape of floats_to_tensor: {floats_to_tensor.shape}\")\n",
        "floats_to_tensor"
      ],
      "metadata": {
        "colab": {
          "base_uri": "https://localhost:8080/"
        },
        "id": "MRTX-Eqo8LzN",
        "outputId": "e8e8bd1f-d6e7-4e68-eb4c-a78f28b15c10"
      },
      "execution_count": 4,
      "outputs": [
        {
          "output_type": "stream",
          "name": "stdout",
          "text": [
            "dtype of floats_to_tensor: torch.float32\n",
            "shape of floats_to_tensor: torch.Size([5])\n"
          ]
        },
        {
          "output_type": "execute_result",
          "data": {
            "text/plain": [
              "tensor([0.0000, 4.0000, 0.0000, 2.6000, 4.9000])"
            ]
          },
          "metadata": {},
          "execution_count": 4
        }
      ]
    },
    {
      "cell_type": "code",
      "source": [
        "# 2d tensor\n",
        "tensor_2d=torch.tensor([[1,3,4],[4,5,6]])\n",
        "print(f\"dtype of tensor_2d: {tensor_2d.dtype}\")\n",
        "print(f\"shape of tensor_2d: {tensor_2d.shape}\")\n",
        "tensor_2d"
      ],
      "metadata": {
        "colab": {
          "base_uri": "https://localhost:8080/"
        },
        "id": "pCwelnQo-Gfj",
        "outputId": "6f2f5249-e7e8-4e65-c7ed-832bf6cd6b54"
      },
      "execution_count": 5,
      "outputs": [
        {
          "output_type": "stream",
          "name": "stdout",
          "text": [
            "dtype of tensor_2d: torch.int64\n",
            "shape of tensor_2d: torch.Size([2, 3])\n"
          ]
        },
        {
          "output_type": "execute_result",
          "data": {
            "text/plain": [
              "tensor([[1, 3, 4],\n",
              "        [4, 5, 6]])"
            ]
          },
          "metadata": {},
          "execution_count": 5
        }
      ]
    },
    {
      "cell_type": "code",
      "source": [
        "# random tensor\n",
        "random_tensor=torch.rand(2,3)# 2 by 3 matrix\n",
        "print(f\"dtype of random_tensor: {random_tensor.dtype}\")\n",
        "print(f\"shape of random_tensor: {random_tensor.shape}\")\n",
        "random_tensor\n",
        "\n"
      ],
      "metadata": {
        "colab": {
          "base_uri": "https://localhost:8080/"
        },
        "id": "tvCvAGQo-3q4",
        "outputId": "8fed38b3-fbe9-4e19-b30e-9de574522150"
      },
      "execution_count": 6,
      "outputs": [
        {
          "output_type": "stream",
          "name": "stdout",
          "text": [
            "dtype of random_tensor: torch.float32\n",
            "shape of random_tensor: torch.Size([2, 3])\n"
          ]
        },
        {
          "output_type": "execute_result",
          "data": {
            "text/plain": [
              "tensor([[0.9997, 0.3515, 0.6164],\n",
              "        [0.3983, 0.1876, 0.5583]])"
            ]
          },
          "metadata": {},
          "execution_count": 6
        }
      ]
    },
    {
      "cell_type": "code",
      "source": [
        "zeros_tensor=torch.zeros(2,3)\n",
        "print(f\"dtype of zeros_tensor: {zeros_tensor.dtype}\")\n",
        "print(f\"shape of zeros_tensor: {zeros_tensor.shape}\")\n",
        "zeros_tensor"
      ],
      "metadata": {
        "colab": {
          "base_uri": "https://localhost:8080/"
        },
        "id": "bx0pzuyyTPPh",
        "outputId": "523a01b4-c116-4e59-d20b-b87db70d7f88"
      },
      "execution_count": 7,
      "outputs": [
        {
          "output_type": "stream",
          "name": "stdout",
          "text": [
            "dtype of zeros_tensor: torch.float32\n",
            "shape of zeros_tensor: torch.Size([2, 3])\n"
          ]
        },
        {
          "output_type": "execute_result",
          "data": {
            "text/plain": [
              "tensor([[0., 0., 0.],\n",
              "        [0., 0., 0.]])"
            ]
          },
          "metadata": {},
          "execution_count": 7
        }
      ]
    },
    {
      "cell_type": "code",
      "source": [
        "# numpy array to tensor\n",
        "numpy_array=np.array([0.0,1.0,2.0,3.0])\n",
        "new_tensor=torch.from_numpy(numpy_array)\n",
        "print(f\"dtype of new_tensor: {new_tensor.dtype}\")\n",
        "print(f\"shape of new_tensor: {new_tensor.shape}\")\n",
        "new_tensor"
      ],
      "metadata": {
        "colab": {
          "base_uri": "https://localhost:8080/"
        },
        "id": "zW_dJF9xC8NK",
        "outputId": "7a6ee707-4329-44ca-bd11-fae949da1691"
      },
      "execution_count": 8,
      "outputs": [
        {
          "output_type": "stream",
          "name": "stdout",
          "text": [
            "dtype of new_tensor: torch.float64\n",
            "shape of new_tensor: torch.Size([4])\n"
          ]
        },
        {
          "output_type": "execute_result",
          "data": {
            "text/plain": [
              "tensor([0., 1., 2., 3.], dtype=torch.float64)"
            ]
          },
          "metadata": {},
          "execution_count": 8
        }
      ]
    },
    {
      "cell_type": "code",
      "source": [
        "# pandas series to tensor\n",
        "pandas_series=pd.Series([0.0,1.0,2.0,3.0])\n",
        "new_tensor=torch.from_numpy(pandas_series.values)\n",
        "print(f\"dtype of new_tensor: {new_tensor.dtype}\")\n",
        "print(f\"shape of new_tensor: {new_tensor.shape}\")\n",
        "new_tensor"
      ],
      "metadata": {
        "colab": {
          "base_uri": "https://localhost:8080/"
        },
        "id": "ABiYthr1DSVm",
        "outputId": "4901e1b1-eaee-4e10-a10e-105db71444e2"
      },
      "execution_count": 9,
      "outputs": [
        {
          "output_type": "stream",
          "name": "stdout",
          "text": [
            "dtype of new_tensor: torch.float64\n",
            "shape of new_tensor: torch.Size([4])\n"
          ]
        },
        {
          "output_type": "execute_result",
          "data": {
            "text/plain": [
              "tensor([0., 1., 2., 3.], dtype=torch.float64)"
            ]
          },
          "metadata": {},
          "execution_count": 9
        }
      ]
    },
    {
      "cell_type": "markdown",
      "source": [
        "# Tensor operations"
      ],
      "metadata": {
        "id": "SVrKv-NVD_gQ"
      }
    },
    {
      "cell_type": "code",
      "source": [
        "# indexing and slicing\n",
        "tensor=torch.tensor([0,1,2,4,5])\n",
        "tensor[3] # number 3 index\n",
        "\n",
        "#change the value of the tensor\n",
        "print(f\"tensor before changing any index value,{tensor}\")\n",
        "tensor[3]=100\n",
        "print(f\"tensor after changing any index value,{tensor}\")"
      ],
      "metadata": {
        "colab": {
          "base_uri": "https://localhost:8080/"
        },
        "id": "jV9XTnytDqVm",
        "outputId": "622a890d-b116-4b52-c211-1f0159e3136e"
      },
      "execution_count": 10,
      "outputs": [
        {
          "output_type": "stream",
          "name": "stdout",
          "text": [
            "tensor before changing any index value,tensor([0, 1, 2, 4, 5])\n",
            "tensor after changing any index value,tensor([  0,   1,   2, 100,   5])\n"
          ]
        }
      ]
    },
    {
      "cell_type": "code",
      "source": [
        "# slice tenspr sample\n",
        "tensor1=torch.tensor([0,1,3,5,3])\n",
        "sub_tensor=tensor1[1:4] #vslice element from index 1 to 4\n",
        "print(f\"tensor1: {tensor1}\")\n",
        "print(f\"sub_tensor: {sub_tensor}\")"
      ],
      "metadata": {
        "colab": {
          "base_uri": "https://localhost:8080/"
        },
        "id": "UZUCOHqCEZ0j",
        "outputId": "19a9d69a-b85d-485a-dc1a-5f305995a9d5"
      },
      "execution_count": 11,
      "outputs": [
        {
          "output_type": "stream",
          "name": "stdout",
          "text": [
            "tensor1: tensor([0, 1, 3, 5, 3])\n",
            "sub_tensor: tensor([1, 3, 5])\n"
          ]
        }
      ]
    },
    {
      "cell_type": "code",
      "source": [
        "# using arrage\n",
        "torch1=torch.arange(5)\n",
        "torch1\n"
      ],
      "metadata": {
        "colab": {
          "base_uri": "https://localhost:8080/"
        },
        "id": "sPrWNaxhXWux",
        "outputId": "dd59d569-74a3-46dc-b017-d8baac703265"
      },
      "execution_count": 12,
      "outputs": [
        {
          "output_type": "execute_result",
          "data": {
            "text/plain": [
              "tensor([0, 1, 2, 3, 4])"
            ]
          },
          "metadata": {},
          "execution_count": 12
        }
      ]
    },
    {
      "cell_type": "code",
      "source": [
        "a=torch.arange(1,10,2)  # 2 means value will rise 2\n",
        "torch.max(a)"
      ],
      "metadata": {
        "colab": {
          "base_uri": "https://localhost:8080/"
        },
        "id": "MxVEu1eLX-Vn",
        "outputId": "a90c84c4-9a16-4825-8191-42333e47fbb3"
      },
      "execution_count": 13,
      "outputs": [
        {
          "output_type": "execute_result",
          "data": {
            "text/plain": [
              "tensor(9)"
            ]
          },
          "metadata": {},
          "execution_count": 13
        }
      ]
    },
    {
      "cell_type": "code",
      "source": [
        "# using linspace\n",
        "torch.linspace(0,10,5) # 5means 5 values  0+10/5=2.5 ==value wil rise 2.5 each"
      ],
      "metadata": {
        "colab": {
          "base_uri": "https://localhost:8080/"
        },
        "id": "3B5EeQK4YQNO",
        "outputId": "b44cc657-eb60-467f-ae25-b6c6237b1f7a"
      },
      "execution_count": 14,
      "outputs": [
        {
          "output_type": "execute_result",
          "data": {
            "text/plain": [
              "tensor([ 0.0000,  2.5000,  5.0000,  7.5000, 10.0000])"
            ]
          },
          "metadata": {},
          "execution_count": 14
        }
      ]
    },
    {
      "cell_type": "code",
      "source": [
        "# Using eye  ==unit mat'\n",
        "torch.eye(3)"
      ],
      "metadata": {
        "colab": {
          "base_uri": "https://localhost:8080/"
        },
        "id": "RqxQmC4iYtQH",
        "outputId": "8951161f-5cbf-4404-e8ab-20947ed7e7aa"
      },
      "execution_count": 15,
      "outputs": [
        {
          "output_type": "execute_result",
          "data": {
            "text/plain": [
              "tensor([[1., 0., 0.],\n",
              "        [0., 1., 0.],\n",
              "        [0., 0., 1.]])"
            ]
          },
          "metadata": {},
          "execution_count": 15
        }
      ]
    },
    {
      "cell_type": "markdown",
      "source": [
        "# Matrix multiplication"
      ],
      "metadata": {
        "id": "4JryKaL7ZyC1"
      }
    },
    {
      "cell_type": "code",
      "source": [
        "f=torch.tensor([[1,2,4],[3,5,7]])\n",
        "f"
      ],
      "metadata": {
        "colab": {
          "base_uri": "https://localhost:8080/"
        },
        "id": "dvx_I3LqZ1f1",
        "outputId": "ba64f5c1-6c11-4c88-d4b4-e59494bfa078"
      },
      "execution_count": 16,
      "outputs": [
        {
          "output_type": "execute_result",
          "data": {
            "text/plain": [
              "tensor([[1, 2, 4],\n",
              "        [3, 5, 7]])"
            ]
          },
          "metadata": {},
          "execution_count": 16
        }
      ]
    },
    {
      "cell_type": "code",
      "source": [
        "g=torch.tensor([[1,2],[3,4],[5,6]])\n",
        "g\n",
        "g.shape"
      ],
      "metadata": {
        "colab": {
          "base_uri": "https://localhost:8080/"
        },
        "id": "ef9DsXrkaAa-",
        "outputId": "5ff8c9fa-df8d-46a2-fa6d-8058935b088b"
      },
      "execution_count": 17,
      "outputs": [
        {
          "output_type": "execute_result",
          "data": {
            "text/plain": [
              "torch.Size([3, 2])"
            ]
          },
          "metadata": {},
          "execution_count": 17
        }
      ]
    },
    {
      "cell_type": "code",
      "source": [
        "h=torch.matmul(f,g)\n",
        "h"
      ],
      "metadata": {
        "colab": {
          "base_uri": "https://localhost:8080/"
        },
        "id": "-ycrqHb0aJyD",
        "outputId": "5dd79926-4679-419b-bcca-33917b084c63"
      },
      "execution_count": 18,
      "outputs": [
        {
          "output_type": "execute_result",
          "data": {
            "text/plain": [
              "tensor([[27, 34],\n",
              "        [53, 68]])"
            ]
          },
          "metadata": {},
          "execution_count": 18
        }
      ]
    },
    {
      "cell_type": "code",
      "source": [
        "# vector dot product\n",
        "v1=torch.tensor([5,6])\n",
        "v2=torch.tensor([6,2])\n",
        "torch.dot(v1,v2)"
      ],
      "metadata": {
        "colab": {
          "base_uri": "https://localhost:8080/"
        },
        "id": "CRqwR1mDaZrH",
        "outputId": "07e2c796-001a-43df-c832-a680a15a13f4"
      },
      "execution_count": 19,
      "outputs": [
        {
          "output_type": "execute_result",
          "data": {
            "text/plain": [
              "tensor(42)"
            ]
          },
          "metadata": {},
          "execution_count": 19
        }
      ]
    },
    {
      "cell_type": "code",
      "source": [
        "# tanspose\n",
        "torch.transpose(f)"
      ],
      "metadata": {
        "colab": {
          "base_uri": "https://localhost:8080/",
          "height": 193
        },
        "id": "g_amW1xwau0L",
        "outputId": "9d6b100b-f8be-423b-9ea7-915e3223ad2b"
      },
      "execution_count": 23,
      "outputs": [
        {
          "output_type": "error",
          "ename": "TypeError",
          "evalue": "transpose() received an invalid combination of arguments - got (Tensor), but expected one of:\n * (Tensor input, int dim0, int dim1)\n * (Tensor input, name dim0, name dim1)\n",
          "traceback": [
            "\u001b[0;31m---------------------------------------------------------------------------\u001b[0m",
            "\u001b[0;31mTypeError\u001b[0m                                 Traceback (most recent call last)",
            "\u001b[0;32m/tmp/ipython-input-23-3422640226.py\u001b[0m in \u001b[0;36m<cell line: 0>\u001b[0;34m()\u001b[0m\n\u001b[1;32m      1\u001b[0m \u001b[0;31m# tanspose\u001b[0m\u001b[0;34m\u001b[0m\u001b[0;34m\u001b[0m\u001b[0m\n\u001b[0;32m----> 2\u001b[0;31m \u001b[0mtorch\u001b[0m\u001b[0;34m.\u001b[0m\u001b[0mtranspose\u001b[0m\u001b[0;34m(\u001b[0m\u001b[0mf\u001b[0m\u001b[0;34m)\u001b[0m\u001b[0;34m\u001b[0m\u001b[0;34m\u001b[0m\u001b[0m\n\u001b[0m",
            "\u001b[0;31mTypeError\u001b[0m: transpose() received an invalid combination of arguments - got (Tensor), but expected one of:\n * (Tensor input, int dim0, int dim1)\n * (Tensor input, name dim0, name dim1)\n"
          ]
        }
      ]
    },
    {
      "cell_type": "markdown",
      "source": [
        "# find determinent"
      ],
      "metadata": {
        "id": "m-CAwcUQbprU"
      }
    },
    {
      "cell_type": "code",
      "source": [
        "torch.det(h)"
      ],
      "metadata": {
        "colab": {
          "base_uri": "https://localhost:8080/"
        },
        "id": "B3rn4PP4bsNS",
        "outputId": "689929c7-0418-4050-dd94-2fefba8d6725"
      },
      "execution_count": 22,
      "outputs": [
        {
          "output_type": "execute_result",
          "data": {
            "text/plain": [
              "tensor(34.0000)"
            ]
          },
          "metadata": {},
          "execution_count": 22
        }
      ]
    },
    {
      "cell_type": "markdown",
      "source": [
        "# special functions"
      ],
      "metadata": {
        "id": "f8Y5v98TZ0ze"
      }
    },
    {
      "cell_type": "code",
      "source": [
        "k=torch.randint(10,(2,2),dtype=torch.float32)\n",
        "k"
      ],
      "metadata": {
        "colab": {
          "base_uri": "https://localhost:8080/"
        },
        "id": "QhxAp9t4Z0DD",
        "outputId": "4bec5a2c-5ed2-4828-d5fe-b764bb040f77"
      },
      "execution_count": 24,
      "outputs": [
        {
          "output_type": "execute_result",
          "data": {
            "text/plain": [
              "tensor([[5., 2.],\n",
              "        [5., 8.]])"
            ]
          },
          "metadata": {},
          "execution_count": 24
        }
      ]
    },
    {
      "cell_type": "code",
      "source": [
        "# log\n",
        "torch.log(k)"
      ],
      "metadata": {
        "colab": {
          "base_uri": "https://localhost:8080/"
        },
        "id": "PWUpz9gTbGf8",
        "outputId": "1ec9b387-3256-4534-87ca-d05c9501b064"
      },
      "execution_count": 25,
      "outputs": [
        {
          "output_type": "execute_result",
          "data": {
            "text/plain": [
              "tensor([[1.6094, 0.6931],\n",
              "        [1.6094, 2.0794]])"
            ]
          },
          "metadata": {},
          "execution_count": 25
        }
      ]
    },
    {
      "cell_type": "code",
      "source": [
        "torch.sqrt(k)"
      ],
      "metadata": {
        "colab": {
          "base_uri": "https://localhost:8080/"
        },
        "id": "08Uv1DFRbMQW",
        "outputId": "46d3ed78-527b-4e27-9aba-bef3ab8ac448"
      },
      "execution_count": 26,
      "outputs": [
        {
          "output_type": "execute_result",
          "data": {
            "text/plain": [
              "tensor([[2.2361, 1.4142],\n",
              "        [2.2361, 2.8284]])"
            ]
          },
          "metadata": {},
          "execution_count": 26
        }
      ]
    },
    {
      "cell_type": "code",
      "source": [
        "torch.exp(k)"
      ],
      "metadata": {
        "colab": {
          "base_uri": "https://localhost:8080/"
        },
        "id": "tEeKVfJubT9R",
        "outputId": "9081bfa1-fc6e-4dcc-e482-ae09dd771f58"
      },
      "execution_count": 27,
      "outputs": [
        {
          "output_type": "execute_result",
          "data": {
            "text/plain": [
              "tensor([[ 148.4132,    7.3891],\n",
              "        [ 148.4132, 2980.9580]])"
            ]
          },
          "metadata": {},
          "execution_count": 27
        }
      ]
    },
    {
      "cell_type": "code",
      "source": [
        "# relu\n",
        "torch.relu(k)"
      ],
      "metadata": {
        "colab": {
          "base_uri": "https://localhost:8080/"
        },
        "id": "ATXuO2BubZkm",
        "outputId": "549e214d-3581-481a-d202-5d744a042697"
      },
      "execution_count": 28,
      "outputs": [
        {
          "output_type": "execute_result",
          "data": {
            "text/plain": [
              "tensor([[5., 2.],\n",
              "        [5., 8.]])"
            ]
          },
          "metadata": {},
          "execution_count": 28
        }
      ]
    },
    {
      "cell_type": "code",
      "source": [
        "# sigmoid\n",
        "torch.sigmoid(k)"
      ],
      "metadata": {
        "colab": {
          "base_uri": "https://localhost:8080/"
        },
        "id": "OJ9V99EJb8aA",
        "outputId": "0ee0871f-292e-426c-8ca3-5ed2b1deedf3"
      },
      "execution_count": 29,
      "outputs": [
        {
          "output_type": "execute_result",
          "data": {
            "text/plain": [
              "tensor([[0.9933, 0.8808],\n",
              "        [0.9933, 0.9997]])"
            ]
          },
          "metadata": {},
          "execution_count": 29
        }
      ]
    },
    {
      "cell_type": "code",
      "source": [
        "# softmax\n",
        "torch.softmax(k,dim=0)"
      ],
      "metadata": {
        "colab": {
          "base_uri": "https://localhost:8080/"
        },
        "id": "xmIepQhZcBmY",
        "outputId": "969912e8-6ae1-46e7-f677-1ecd865cd243"
      },
      "execution_count": 30,
      "outputs": [
        {
          "output_type": "execute_result",
          "data": {
            "text/plain": [
              "tensor([[0.5000, 0.0025],\n",
              "        [0.5000, 0.9975]])"
            ]
          },
          "metadata": {},
          "execution_count": 30
        }
      ]
    }
  ]
}